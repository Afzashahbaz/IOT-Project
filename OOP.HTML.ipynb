{
  "nbformat": 4,
  "nbformat_minor": 0,
  "metadata": {
    "colab": {
      "provenance": []
    },
    "kernelspec": {
      "name": "python3",
      "display_name": "Python 3"
    },
    "language_info": {
      "name": "python"
    }
  },
  "cells": [
    {
      "cell_type": "code",
      "execution_count": 1,
      "metadata": {
        "id": "yIHw61Ontt4e"
      },
      "outputs": [],
      "source": [
        "#CLASS\n",
        "class Car:\n",
        "    def __init__(self, make, model, year):\n",
        "           self.make = make\n",
        "           self.model = model\n",
        "           self.year = year\n",
        "    def start(self):\n",
        "           print(f\"The {self.year} {self.make} {self.model} is starting.\")"
      ]
    },
    {
      "cell_type": "code",
      "source": [
        "#OBJECT\n",
        "my_car = Car(\"Toyota\", \"Corolla\", 2022)\n",
        "my_car.start()"
      ],
      "metadata": {
        "colab": {
          "base_uri": "https://localhost:8080/"
        },
        "id": "VFXNLsfatz7Y",
        "outputId": "8f615175-76b2-489c-fe11-f57df24097ed"
      },
      "execution_count": 2,
      "outputs": [
        {
          "output_type": "stream",
          "name": "stdout",
          "text": [
            "The 2022 Toyota Corolla is starting.\n"
          ]
        }
      ]
    },
    {
      "cell_type": "code",
      "source": [
        "#ENCAPSULATION\n",
        "class Person:\n",
        "    def __init__(self, name, age):\n",
        "           self.name = name  # Public attribute\n",
        "           self.__age = age  # Private attribute\n",
        "    def get_age(self):\n",
        "           return self.__age\n",
        "P1 = Person(\"Afza\", 22)\n",
        "P1.get_age()"
      ],
      "metadata": {
        "colab": {
          "base_uri": "https://localhost:8080/"
        },
        "id": "Z72Q8EH0tz_r",
        "outputId": "f6947c5b-af98-45e7-b247-0f34e0355fdf"
      },
      "execution_count": 3,
      "outputs": [
        {
          "output_type": "execute_result",
          "data": {
            "text/plain": [
              "22"
            ]
          },
          "metadata": {},
          "execution_count": 3
        }
      ]
    },
    {
      "cell_type": "code",
      "source": [
        "#INHERITANCE\n",
        "class Animal:\n",
        "    def speak(self):\n",
        "     print(\"Animal speaks\")\n",
        "\n",
        "class Dog(Animal):\n",
        "    def bark(self):\n",
        "      print(\"Dog barks\")\n",
        "dog = Dog()\n",
        "dog.speak()  # Inherited method\n",
        "dog.bark()  # Child class method"
      ],
      "metadata": {
        "colab": {
          "base_uri": "https://localhost:8080/"
        },
        "id": "Dsj8e1ust0CH",
        "outputId": "22421a12-b6e3-4fbf-ec9a-39118e2ceb84"
      },
      "execution_count": 4,
      "outputs": [
        {
          "output_type": "stream",
          "name": "stdout",
          "text": [
            "Animal speaks\n",
            "Dog barks\n"
          ]
        }
      ]
    },
    {
      "cell_type": "code",
      "source": [
        "#POLYMORPHISM\n",
        "class Animal:\n",
        "    def speak(self):\n",
        "        print(\"Animal speaks\")\n",
        "\n",
        "class Dog(Animal):\n",
        "    def speak(self):\n",
        "        print(\"Dog barks\")\n",
        "\n",
        "class Cat(Animal):\n",
        "    def speak(self):\n",
        "        print(\"Cat meows\")\n",
        "\n",
        "def animal_sound(animal):\n",
        "    animal.speak()  # Calls the correct method depending on the object type\n",
        "\n",
        "dog = Dog()\n",
        "cat = Cat()\n",
        "\n",
        "animal_sound(dog)\n",
        "animal_sound(cat)"
      ],
      "metadata": {
        "colab": {
          "base_uri": "https://localhost:8080/"
        },
        "id": "KqO1uD6uuKD-",
        "outputId": "780bbcc0-72d9-41fd-ff56-f42ae17051b2"
      },
      "execution_count": 5,
      "outputs": [
        {
          "output_type": "stream",
          "name": "stdout",
          "text": [
            "Dog barks\n",
            "Cat meows\n"
          ]
        }
      ]
    },
    {
      "cell_type": "code",
      "source": [
        "#ABSRACTION\n",
        "from abc import ABC, abstractmethod\n",
        "class Shape(ABC):\n",
        "       @abstractmethod\n",
        "       def area(self):\n",
        "           pass\n",
        "class Circle(Shape):\n",
        "       def __init__(self, radius):\n",
        "           self.radius = radius\n",
        "       def area(self):\n",
        "           return 3.14 * (self.radius ** 2)\n",
        "circle = Circle(5)\n",
        "print(circle.area())"
      ],
      "metadata": {
        "colab": {
          "base_uri": "https://localhost:8080/"
        },
        "id": "rA_ricyTuKPZ",
        "outputId": "35692204-81fe-4077-c649-0c13edf57745"
      },
      "execution_count": 6,
      "outputs": [
        {
          "output_type": "stream",
          "name": "stdout",
          "text": [
            "78.5\n"
          ]
        }
      ]
    }
  ]
}