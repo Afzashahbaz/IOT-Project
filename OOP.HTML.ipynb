{
  "nbformat": 4,
  "nbformat_minor": 0,
  "metadata": {
    "colab": {
      "provenance": []
    },
    "kernelspec": {
      "name": "python3",
      "display_name": "Python 3"
    },
    "language_info": {
      "name": "python"
    }
  },
  "cells": [
    {
      "cell_type": "code",
      "execution_count": 2,
      "metadata": {
        "id": "x7z0PAxLa9iP"
      },
      "outputs": [],
      "source": [
        "#CLASS\n",
        "class Car:\n",
        "    def __init__(self, make, model, year):\n",
        "           self.make = make\n",
        "           self.model = model\n",
        "           self.year = year\n",
        "    def start(self):\n",
        "           print(f\"The {self.year} {self.make} {self.model} is starting.\")"
      ]
    },
    {
      "cell_type": "code",
      "source": [
        "#OBJECT\n",
        "my_car = Car(\"Toyota\", \"Corolla\", 2022)\n",
        "my_car.start()"
      ],
      "metadata": {
        "colab": {
          "base_uri": "https://localhost:8080/"
        },
        "id": "pRx2oBulbUZG",
        "outputId": "e8281456-bcc5-4f42-c897-b8aeced3b28a"
      },
      "execution_count": 3,
      "outputs": [
        {
          "output_type": "stream",
          "name": "stdout",
          "text": [
            "The 2022 Toyota Corolla is starting.\n"
          ]
        }
      ]
    },
    {
      "cell_type": "code",
      "source": [
        "#ENCAPSULATION\n",
        "class Person:\n",
        "    def __init__(self, name, age):\n",
        "           self.name = name  # Public attribute\n",
        "           self.__age = age  # Private attribute\n",
        "    def get_age(self):\n",
        "           return self.__age\n",
        "P1 = Person(\"Afza\", 22)\n",
        "P1.get_age()"
      ],
      "metadata": {
        "colab": {
          "base_uri": "https://localhost:8080/"
        },
        "id": "-9vmNpb7bmUR",
        "outputId": "7345a6a8-32d2-467f-bfad-a9685d1686ba"
      },
      "execution_count": 5,
      "outputs": [
        {
          "output_type": "execute_result",
          "data": {
            "text/plain": [
              "22"
            ]
          },
          "metadata": {},
          "execution_count": 5
        }
      ]
    },
    {
      "cell_type": "code",
      "source": [
        "#INHERITANCE\n",
        "class Animal:\n",
        "    def speak(self):\n",
        "     print(\"Animal speaks\")\n",
        "\n",
        "class Dog(Animal):\n",
        "    def bark(self):\n",
        "      print(\"Dog barks\")\n",
        "dog = Dog()\n",
        "dog.speak()  # Inherited method\n",
        "dog.bark()  # Child class method"
      ],
      "metadata": {
        "colab": {
          "base_uri": "https://localhost:8080/"
        },
        "id": "yGyFRfaQcNfq",
        "outputId": "ee9e11e6-fd39-4848-a5ef-50c8743e52e4"
      },
      "execution_count": 7,
      "outputs": [
        {
          "output_type": "stream",
          "name": "stdout",
          "text": [
            "Animal speaks\n",
            "Dog barks\n"
          ]
        }
      ]
    },
    {
      "cell_type": "code",
      "source": [
        "#POLYMORPHISM\n",
        "class Animal:\n",
        "    def speak(self):\n",
        "        print(\"Animal speaks\")\n",
        "\n",
        "class Dog(Animal):\n",
        "    def speak(self):\n",
        "        print(\"Dog barks\")\n",
        "\n",
        "class Cat(Animal):\n",
        "    def speak(self):\n",
        "        print(\"Cat meows\")\n",
        "\n",
        "def animal_sound(animal):\n",
        "    animal.speak()  # Calls the correct method depending on the object type\n",
        "\n",
        "dog = Dog()\n",
        "cat = Cat()\n",
        "\n",
        "animal_sound(dog)\n",
        "animal_sound(cat)"
      ],
      "metadata": {
        "colab": {
          "base_uri": "https://localhost:8080/"
        },
        "id": "C9-VJIY_cg2M",
        "outputId": "0a095d86-dcdf-4f90-aec2-6f5ad9a2e67e"
      },
      "execution_count": 13,
      "outputs": [
        {
          "output_type": "stream",
          "name": "stdout",
          "text": [
            "Dog barks\n",
            "Cat meows\n"
          ]
        }
      ]
    },
    {
      "cell_type": "code",
      "source": [
        "#ABSRACTION\n",
        "from abc import ABC, abstractmethod\n",
        "class Shape(ABC):\n",
        "       @abstractmethod\n",
        "       def area(self):\n",
        "           pass\n",
        "class Circle(Shape):\n",
        "       def __init__(self, radius):\n",
        "           self.radius = radius\n",
        "       def area(self):\n",
        "           return 3.14 * (self.radius ** 2)\n",
        "circle = Circle(5)\n",
        "print(circle.area())"
      ],
      "metadata": {
        "colab": {
          "base_uri": "https://localhost:8080/"
        },
        "id": "7l3MUJ8rchB7",
        "outputId": "e2a6e4a6-9a9c-4a2b-d150-3e4169c56060"
      },
      "execution_count": 14,
      "outputs": [
        {
          "output_type": "stream",
          "name": "stdout",
          "text": [
            "78.5\n"
          ]
        }
      ]
    }
  ]
}